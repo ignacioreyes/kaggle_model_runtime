{
 "cells": [
  {
   "cell_type": "code",
   "execution_count": 1,
   "id": "db851207",
   "metadata": {},
   "outputs": [
    {
     "name": "stderr",
     "output_type": "stream",
     "text": [
      "2023-11-12 03:15:43.542537: I tensorflow/core/platform/cpu_feature_guard.cc:182] This TensorFlow binary is optimized to use available CPU instructions in performance-critical operations.\n",
      "To enable the following instructions: AVX2 FMA, in other operations, rebuild TensorFlow with the appropriate compiler flags.\n",
      "2023-11-12 03:15:44.332552: W tensorflow/compiler/tf2tensorrt/utils/py_utils.cc:38] TF-TRT Warning: Could not find TensorRT\n"
     ]
    }
   ],
   "source": [
    "import numpy as np\n",
    "import pandas as pd\n",
    "import tensorflow as tf\n",
    "import matplotlib.pyplot as plt\n",
    "import os\n",
    "from dataset import LayoutDataset\n",
    "from models import LayoutMLP\n",
    "from scipy.stats import kendalltau"
   ]
  },
  {
   "cell_type": "code",
   "execution_count": 2,
   "id": "aedd7a25",
   "metadata": {},
   "outputs": [
    {
     "name": "stdout",
     "output_type": "stream",
     "text": [
      "train layout:nlp:default 1000\n",
      "train layout:nlp:random 1000\n",
      "train layout:xla:random 3000\n",
      "train layout:xla:default 3000\n",
      "test all_filenames 10000\n",
      "valid all_filenames 1000\n"
     ]
    },
    {
     "name": "stderr",
     "output_type": "stream",
     "text": [
      "2023-11-12 03:15:46.910059: I tensorflow/compiler/xla/stream_executor/cuda/cuda_gpu_executor.cc:995] successful NUMA node read from SysFS had negative value (-1), but there must be at least one NUMA node, so returning NUMA node zero. See more at https://github.com/torvalds/linux/blob/v6.0/Documentation/ABI/testing/sysfs-bus-pci#L344-L355\n",
      "2023-11-12 03:15:47.016757: I tensorflow/compiler/xla/stream_executor/cuda/cuda_gpu_executor.cc:995] successful NUMA node read from SysFS had negative value (-1), but there must be at least one NUMA node, so returning NUMA node zero. See more at https://github.com/torvalds/linux/blob/v6.0/Documentation/ABI/testing/sysfs-bus-pci#L344-L355\n",
      "2023-11-12 03:15:47.017000: I tensorflow/compiler/xla/stream_executor/cuda/cuda_gpu_executor.cc:995] successful NUMA node read from SysFS had negative value (-1), but there must be at least one NUMA node, so returning NUMA node zero. See more at https://github.com/torvalds/linux/blob/v6.0/Documentation/ABI/testing/sysfs-bus-pci#L344-L355\n",
      "2023-11-12 03:15:47.018545: I tensorflow/compiler/xla/stream_executor/cuda/cuda_gpu_executor.cc:995] successful NUMA node read from SysFS had negative value (-1), but there must be at least one NUMA node, so returning NUMA node zero. See more at https://github.com/torvalds/linux/blob/v6.0/Documentation/ABI/testing/sysfs-bus-pci#L344-L355\n",
      "2023-11-12 03:15:47.018744: I tensorflow/compiler/xla/stream_executor/cuda/cuda_gpu_executor.cc:995] successful NUMA node read from SysFS had negative value (-1), but there must be at least one NUMA node, so returning NUMA node zero. See more at https://github.com/torvalds/linux/blob/v6.0/Documentation/ABI/testing/sysfs-bus-pci#L344-L355\n",
      "2023-11-12 03:15:47.018923: I tensorflow/compiler/xla/stream_executor/cuda/cuda_gpu_executor.cc:995] successful NUMA node read from SysFS had negative value (-1), but there must be at least one NUMA node, so returning NUMA node zero. See more at https://github.com/torvalds/linux/blob/v6.0/Documentation/ABI/testing/sysfs-bus-pci#L344-L355\n",
      "2023-11-12 03:15:47.735403: I tensorflow/compiler/xla/stream_executor/cuda/cuda_gpu_executor.cc:995] successful NUMA node read from SysFS had negative value (-1), but there must be at least one NUMA node, so returning NUMA node zero. See more at https://github.com/torvalds/linux/blob/v6.0/Documentation/ABI/testing/sysfs-bus-pci#L344-L355\n",
      "2023-11-12 03:15:47.735623: I tensorflow/compiler/xla/stream_executor/cuda/cuda_gpu_executor.cc:995] successful NUMA node read from SysFS had negative value (-1), but there must be at least one NUMA node, so returning NUMA node zero. See more at https://github.com/torvalds/linux/blob/v6.0/Documentation/ABI/testing/sysfs-bus-pci#L344-L355\n",
      "2023-11-12 03:15:47.735811: I tensorflow/compiler/xla/stream_executor/cuda/cuda_gpu_executor.cc:995] successful NUMA node read from SysFS had negative value (-1), but there must be at least one NUMA node, so returning NUMA node zero. See more at https://github.com/torvalds/linux/blob/v6.0/Documentation/ABI/testing/sysfs-bus-pci#L344-L355\n",
      "2023-11-12 03:15:47.736187: I tensorflow/core/common_runtime/gpu/gpu_device.cc:1639] Created device /job:localhost/replica:0/task:0/device:GPU:0 with 2103 MB memory:  -> device: 0, name: NVIDIA GeForce RTX 3050 Laptop GPU, pci bus id: 0000:01:00.0, compute capability: 8.6\n"
     ]
    }
   ],
   "source": [
    "batch_size = 160\n",
    "dataset_take = 1000\n",
    "learning_rate = 1.5e-3\n",
    "batch_per_file_size = 8\n",
    "node_embedding_size = 15\n",
    "layers = [128, 64, 32, 64, 24]\n",
    "\n",
    "dataset = LayoutDataset(\n",
    "    batch_size, dataset_take,\n",
    "    subset=None, build_tfrecords=False,\n",
    "    batch_per_file_size=batch_per_file_size\n",
    ")"
   ]
  },
  {
   "cell_type": "code",
   "execution_count": 3,
   "id": "57227338",
   "metadata": {},
   "outputs": [],
   "source": [
    "mlp = LayoutMLP(\n",
    "    batch_size,\n",
    "    learning_rate=learning_rate,\n",
    "    batch_per_file_size=batch_per_file_size,\n",
    "    node_embedding_size=node_embedding_size,\n",
    "    validation_frequency=10_000,\n",
    "    validations_without_improvement=5,\n",
    "    layer_sizes=layers,\n",
    "    loss='pairwise_hinge',\n",
    "    n_siblings=dataset.n_siblings,\n",
    "    l1_multiplier=2e-8,\n",
    "    output_name='layout_none_11_12_03_15'\n",
    ")"
   ]
  },
  {
   "cell_type": "code",
   "execution_count": 4,
   "id": "5a4de898",
   "metadata": {
    "scrolled": false
   },
   "outputs": [
    {
     "name": "stderr",
     "output_type": "stream",
     "text": [
      "2023-11-12 03:20:00.140560: I tensorflow/compiler/xla/stream_executor/cuda/cuda_blas.cc:606] TensorFloat-32 will be used for the matrix multiplication. This will only be logged once.\n",
      "2023-11-12 03:20:00.186150: I tensorflow/compiler/xla/service/service.cc:168] XLA service 0x7fd6984f8fa0 initialized for platform CUDA (this does not guarantee that XLA will be used). Devices:\n",
      "2023-11-12 03:20:00.186172: I tensorflow/compiler/xla/service/service.cc:176]   StreamExecutor device (0): NVIDIA GeForce RTX 3050 Laptop GPU, Compute Capability 8.6\n",
      "2023-11-12 03:20:00.226651: I tensorflow/compiler/mlir/tensorflow/utils/dump_mlir_util.cc:255] disabling MLIR crash reproducer, set env var `MLIR_CRASH_REPRODUCER_DIRECTORY` to enable.\n",
      "2023-11-12 03:20:00.469125: I tensorflow/compiler/xla/stream_executor/cuda/cuda_dnn.cc:432] Loaded cuDNN version 8600\n",
      "2023-11-12 03:20:00.655357: I ./tensorflow/compiler/jit/device_compiler.h:186] Compiled cluster using XLA!  This line is logged at most once for the lifetime of the process.\n"
     ]
    },
    {
     "name": "stdout",
     "output_type": "stream",
     "text": [
      "iteration 500 training loss 3.4013557 lr 0.00007\n",
      "iteration 1000 training loss 3.1646912 lr 0.00015\n",
      "iteration 1500 training loss 2.673769 lr 0.00022\n",
      "iteration 2000 training loss 2.3698173 lr 0.00030\n",
      "iteration 2500 training loss 2.4903533 lr 0.00037\n",
      "iteration 3000 training loss 2.5177321 lr 0.00045\n",
      "iteration 3500 training loss 1.7034522 lr 0.00052\n",
      "iteration 4000 training loss 1.8426639 lr 0.00060\n",
      "iteration 4500 training loss 2.20379 lr 0.00067\n",
      "iteration 5000 training loss 1.7902968 lr 0.00075\n",
      "iteration 5500 training loss 1.6629847 lr 0.00082\n",
      "iteration 6000 training loss 1.7940216 lr 0.00090\n",
      "iteration 6500 training loss 2.0523393 lr 0.00097\n",
      "iteration 7000 training loss 1.8783458 lr 0.00105\n",
      "iteration 7500 training loss 1.2832676 lr 0.00112\n",
      "iteration 8000 training loss 1.4861238 lr 0.00120\n",
      "iteration 8500 training loss 1.3051887 lr 0.00127\n",
      "iteration 9000 training loss 1.4513209 lr 0.00135\n",
      "iteration 9500 training loss 1.9756627 lr 0.00142\n",
      "iteration 10000 training loss 1.3883774 lr 0.00150\n",
      "layout:nlp:random 0.8540887630786761\n",
      "layout:nlp:default 0.43343904941459277\n",
      "layout:xla:random 0.6135092285273133\n",
      "layout:xla:default 0.2851738660826235\n",
      "epoch 0, it 10000 validation loss -0.547\n",
      "iteration 10500 training loss 1.6528063 lr 0.00150\n",
      "iteration 11000 training loss 1.7461599 lr 0.00150\n",
      "iteration 11500 training loss 1.1785829 lr 0.00150\n",
      "iteration 12000 training loss 1.1318436 lr 0.00150\n",
      "iteration 12500 training loss 1.857528 lr 0.00150\n",
      "iteration 13000 training loss 1.3336565 lr 0.00150\n",
      "iteration 13500 training loss 1.5651532 lr 0.00150\n",
      "iteration 14000 training loss 1.5747198 lr 0.00150\n",
      "iteration 14500 training loss 1.8304613 lr 0.00150\n",
      "iteration 15000 training loss 1.7873945 lr 0.00150\n",
      "iteration 15500 training loss 1.2100204 lr 0.00150\n",
      "iteration 16000 training loss 0.92974275 lr 0.00150\n",
      "iteration 16500 training loss 1.175694 lr 0.00150\n",
      "iteration 17000 training loss 1.0507292 lr 0.00150\n",
      "iteration 17500 training loss 1.2631818 lr 0.00150\n",
      "iteration 18000 training loss 1.69558 lr 0.00149\n",
      "iteration 18500 training loss 1.3758632 lr 0.00149\n",
      "iteration 19000 training loss 1.3072218 lr 0.00149\n",
      "iteration 19500 training loss 1.3114717 lr 0.00149\n",
      "iteration 20000 training loss 1.3262373 lr 0.00149\n",
      "layout:nlp:random 0.8850532375408668\n",
      "layout:nlp:default 0.46934651273535677\n",
      "layout:xla:random 0.5852659876325413\n",
      "layout:xla:default 0.3128742913930562\n",
      "epoch 0, it 20000 validation loss -0.563\n",
      "iteration 20500 training loss 1.4489453 lr 0.00149\n",
      "iteration 21000 training loss 1.4336268 lr 0.00149\n",
      "iteration 21500 training loss 1.3171456 lr 0.00149\n",
      "iteration 22000 training loss 1.2889496 lr 0.00149\n",
      "iteration 22500 training loss 1.1871357 lr 0.00149\n",
      "iteration 23000 training loss 1.6690412 lr 0.00149\n",
      "iteration 23500 training loss 1.4626493 lr 0.00148\n",
      "iteration 24000 training loss 1.3592958 lr 0.00148\n",
      "iteration 24500 training loss 1.3418367 lr 0.00148\n",
      "iteration 25000 training loss 1.4480915 lr 0.00148\n",
      "iteration 25500 training loss 1.3968233 lr 0.00148\n",
      "iteration 26000 training loss 1.4856849 lr 0.00148\n",
      "iteration 26500 training loss 1.2997985 lr 0.00148\n",
      "iteration 27000 training loss 1.741337 lr 0.00147\n",
      "iteration 27500 training loss 1.613646 lr 0.00147\n",
      "iteration 28000 training loss 1.1518434 lr 0.00147\n",
      "iteration 28500 training loss 1.450323 lr 0.00147\n",
      "iteration 29000 training loss 1.3726722 lr 0.00147\n",
      "iteration 29500 training loss 1.3483158 lr 0.00147\n",
      "iteration 30000 training loss 1.1800838 lr 0.00147\n",
      "layout:nlp:random 0.8879347336038798\n",
      "layout:nlp:default 0.4836441797124345\n",
      "layout:xla:random 0.5961631758669484\n",
      "layout:xla:default 0.2901115127855384\n",
      "epoch 0, it 30000 validation loss -0.564\n",
      "iteration 30500 training loss 1.3175987 lr 0.00146\n",
      "iteration 31000 training loss 1.6200347 lr 0.00146\n",
      "iteration 31500 training loss 1.0654432 lr 0.00146\n",
      "iteration 32000 training loss 1.1610253 lr 0.00146\n",
      "iteration 32500 training loss 1.506223 lr 0.00146\n",
      "iteration 33000 training loss 0.9852791 lr 0.00145\n",
      "iteration 33500 training loss 1.2413825 lr 0.00145\n",
      "iteration 34000 training loss 1.6198379 lr 0.00145\n",
      "iteration 34500 training loss 1.3266064 lr 0.00145\n",
      "iteration 35000 training loss 1.2896277 lr 0.00145\n",
      "iteration 35500 training loss 1.4910008 lr 0.00144\n",
      "iteration 36000 training loss 1.277937 lr 0.00144\n",
      "iteration 36500 training loss 1.2050847 lr 0.00144\n",
      "iteration 37000 training loss 1.4558046 lr 0.00144\n",
      "iteration 37500 training loss 1.2806588 lr 0.00143\n",
      "iteration 38000 training loss 1.1077511 lr 0.00143\n",
      "iteration 38500 training loss 1.429714 lr 0.00143\n",
      "iteration 39000 training loss 1.5511678 lr 0.00143\n",
      "iteration 39500 training loss 1.384779 lr 0.00142\n",
      "iteration 40000 training loss 1.3913519 lr 0.00142\n",
      "layout:nlp:random 0.8952146748361521\n",
      "layout:nlp:default 0.4819782669014828\n",
      "layout:xla:random 0.6208309627407183\n",
      "layout:xla:default 0.3020573462601709\n",
      "epoch 0, it 40000 validation loss -0.575\n",
      "iteration 40500 training loss 1.1090114 lr 0.00142\n",
      "iteration 41000 training loss 1.1104838 lr 0.00142\n",
      "iteration 41500 training loss 1.508154 lr 0.00141\n",
      "iteration 42000 training loss 1.1221639 lr 0.00141\n",
      "iteration 42500 training loss 1.4344325 lr 0.00141\n",
      "iteration 43000 training loss 1.1465607 lr 0.00141\n",
      "iteration 43500 training loss 1.6968596 lr 0.00140\n",
      "iteration 44000 training loss 1.1374289 lr 0.00140\n",
      "iteration 44500 training loss 1.4876388 lr 0.00140\n",
      "iteration 45000 training loss 1.6687189 lr 0.00140\n",
      "iteration 45500 training loss 1.1151954 lr 0.00139\n",
      "iteration 46000 training loss 1.1138749 lr 0.00139\n",
      "iteration 46500 training loss 1.4396696 lr 0.00139\n",
      "iteration 47000 training loss 1.0270723 lr 0.00138\n",
      "iteration 47500 training loss 1.3059014 lr 0.00138\n",
      "iteration 48000 training loss 1.4302883 lr 0.00138\n",
      "iteration 48500 training loss 1.2747769 lr 0.00137\n",
      "iteration 49000 training loss 1.4660684 lr 0.00137\n",
      "iteration 49500 training loss 0.9914206 lr 0.00137\n",
      "iteration 50000 training loss 1.5153275 lr 0.00136\n",
      "layout:nlp:random 0.9087898884324886\n",
      "layout:nlp:default 0.49627584745908015\n",
      "layout:xla:random 0.6203488295702736\n",
      "layout:xla:default 0.3220580480024073\n",
      "epoch 0, it 50000 validation loss -0.587\n",
      "iteration 50500 training loss 1.3448868 lr 0.00136\n",
      "iteration 51000 training loss 1.6378129 lr 0.00136\n",
      "iteration 51500 training loss 1.2482702 lr 0.00135\n",
      "iteration 52000 training loss 1.48354 lr 0.00135\n",
      "iteration 52500 training loss 0.875248 lr 0.00135\n",
      "iteration 53000 training loss 0.886178 lr 0.00134\n",
      "iteration 53500 training loss 1.0980899 lr 0.00134\n",
      "iteration 54000 training loss 1.3694504 lr 0.00134\n",
      "iteration 54500 training loss 1.1764488 lr 0.00133\n",
      "iteration 55000 training loss 1.0971634 lr 0.00133\n",
      "iteration 55500 training loss 1.2917374 lr 0.00133\n",
      "iteration 56000 training loss 1.489583 lr 0.00132\n",
      "iteration 56500 training loss 1.4569722 lr 0.00132\n",
      "iteration 57000 training loss 1.1803746 lr 0.00131\n",
      "iteration 57500 training loss 1.0531293 lr 0.00131\n",
      "iteration 58000 training loss 1.0821652 lr 0.00131\n",
      "iteration 58500 training loss 0.9834377 lr 0.00130\n",
      "iteration 59000 training loss 1.2025543 lr 0.00130\n",
      "iteration 59500 training loss 1.2992436 lr 0.00130\n",
      "iteration 60000 training loss 0.91563606 lr 0.00129\n",
      "layout:nlp:random 0.9210808814609628\n",
      "layout:nlp:default 0.49876455899549477\n",
      "layout:xla:random 0.6024324178451829\n",
      "layout:xla:default 0.28588859097156016\n",
      "epoch 0, it 60000 validation loss -0.577\n",
      "iteration 60500 training loss 1.1625537 lr 0.00129\n",
      "iteration 61000 training loss 1.1527177 lr 0.00128\n",
      "iteration 61500 training loss 1.249615 lr 0.00128\n",
      "iteration 62000 training loss 0.99913037 lr 0.00128\n",
      "iteration 62500 training loss 1.4283253 lr 0.00127\n",
      "iteration 63000 training loss 1.0935813 lr 0.00127\n",
      "iteration 63500 training loss 0.99835724 lr 0.00126\n",
      "iteration 64000 training loss 0.81501913 lr 0.00126\n",
      "iteration 64500 training loss 1.065557 lr 0.00125\n",
      "iteration 65000 training loss 1.0212076 lr 0.00125\n",
      "iteration 65500 training loss 1.3474516 lr 0.00125\n",
      "iteration 66000 training loss 0.898672 lr 0.00124\n",
      "iteration 66500 training loss 1.6145433 lr 0.00124\n",
      "iteration 67000 training loss 0.815851 lr 0.00123\n",
      "iteration 67500 training loss 1.192079 lr 0.00123\n",
      "iteration 68000 training loss 1.2739536 lr 0.00122\n",
      "iteration 68500 training loss 1.178018 lr 0.00122\n",
      "iteration 69000 training loss 1.0015227 lr 0.00122\n",
      "iteration 69500 training loss 1.0389516 lr 0.00121\n"
     ]
    },
    {
     "name": "stdout",
     "output_type": "stream",
     "text": [
      "iteration 70000 training loss 0.88689935 lr 0.00121\n",
      "layout:nlp:random 0.9237359161399892\n",
      "layout:nlp:default 0.49636770428675836\n",
      "layout:xla:random 0.5805431672067879\n",
      "layout:xla:default 0.3152492887975333\n",
      "epoch 0, it 70000 validation loss -0.579\n",
      "iteration 70500 training loss 1.1611166 lr 0.00120\n",
      "iteration 71000 training loss 1.2947391 lr 0.00120\n",
      "iteration 71500 training loss 1.3462954 lr 0.00119\n",
      "iteration 72000 training loss 1.3865231 lr 0.00119\n",
      "iteration 72500 training loss 1.2738261 lr 0.00118\n",
      "iteration 73000 training loss 1.270027 lr 0.00118\n",
      "iteration 73500 training loss 1.6328504 lr 0.00117\n",
      "iteration 74000 training loss 1.2390856 lr 0.00117\n",
      "iteration 74500 training loss 1.2255784 lr 0.00116\n",
      "iteration 75000 training loss 1.2191676 lr 0.00116\n",
      "iteration 75500 training loss 1.2119812 lr 0.00116\n",
      "iteration 76000 training loss 0.8751387 lr 0.00115\n",
      "iteration 76500 training loss 1.090599 lr 0.00115\n",
      "iteration 77000 training loss 1.1897105 lr 0.00114\n",
      "iteration 77500 training loss 1.345109 lr 0.00114\n",
      "iteration 78000 training loss 1.300531 lr 0.00113\n",
      "iteration 78500 training loss 1.0481389 lr 0.00113\n",
      "iteration 79000 training loss 1.5152045 lr 0.00112\n",
      "iteration 79500 training loss 1.3278961 lr 0.00112\n",
      "iteration 80000 training loss 1.0179708 lr 0.00111\n",
      "layout:nlp:random 0.9183449785360589\n",
      "layout:nlp:default 0.5022539194436331\n",
      "layout:xla:random 0.6015083266808195\n",
      "layout:xla:default 0.30856111841523853\n",
      "epoch 0, it 80000 validation loss -0.583\n",
      "iteration 80500 training loss 1.3550296 lr 0.00111\n",
      "iteration 81000 training loss 1.1849072 lr 0.00110\n",
      "iteration 81500 training loss 0.8100885 lr 0.00110\n",
      "iteration 82000 training loss 1.1659638 lr 0.00109\n",
      "iteration 82500 training loss 0.9134595 lr 0.00109\n",
      "iteration 83000 training loss 1.231281 lr 0.00108\n",
      "iteration 83500 training loss 0.857363 lr 0.00108\n",
      "iteration 84000 training loss 1.2798615 lr 0.00107\n",
      "iteration 84500 training loss 1.1032027 lr 0.00107\n",
      "iteration 85000 training loss 1.1848458 lr 0.00106\n",
      "iteration 85500 training loss 0.8456201 lr 0.00105\n",
      "iteration 86000 training loss 1.2339884 lr 0.00105\n",
      "iteration 86500 training loss 1.5183911 lr 0.00104\n",
      "iteration 87000 training loss 1.5350671 lr 0.00104\n",
      "iteration 87500 training loss 1.0528829 lr 0.00103\n",
      "iteration 88000 training loss 1.0428035 lr 0.00103\n",
      "iteration 88500 training loss 1.0063324 lr 0.00102\n",
      "iteration 89000 training loss 0.8536241 lr 0.00102\n",
      "iteration 89500 training loss 1.2096689 lr 0.00101\n",
      "iteration 90000 training loss 0.98014444 lr 0.00101\n",
      "layout:nlp:random 0.9188228564597788\n",
      "layout:nlp:default 0.49926143089271235\n",
      "layout:xla:random 0.5948270920939114\n",
      "layout:xla:default 0.3103661016464356\n",
      "epoch 0, it 90000 validation loss -0.581\n",
      "iteration 90500 training loss 1.3433276 lr 0.00100\n",
      "iteration 91000 training loss 1.0160241 lr 0.00100\n",
      "iteration 91500 training loss 1.1819313 lr 0.00099\n",
      "iteration 92000 training loss 1.0759003 lr 0.00099\n",
      "iteration 92500 training loss 1.1936177 lr 0.00098\n",
      "iteration 93000 training loss 1.2186744 lr 0.00098\n",
      "iteration 93500 training loss 0.74079156 lr 0.00097\n",
      "iteration 94000 training loss 0.806582 lr 0.00096\n",
      "iteration 94500 training loss 1.165129 lr 0.00096\n",
      "iteration 95000 training loss 1.074797 lr 0.00095\n",
      "iteration 95500 training loss 1.0999501 lr 0.00095\n",
      "iteration 96000 training loss 1.4490322 lr 0.00094\n",
      "iteration 96500 training loss 1.1369208 lr 0.00094\n",
      "iteration 97000 training loss 1.1590629 lr 0.00093\n",
      "iteration 97500 training loss 0.7958182 lr 0.00093\n",
      "iteration 98000 training loss 1.0188731 lr 0.00092\n",
      "iteration 98500 training loss 1.2301954 lr 0.00092\n",
      "iteration 99000 training loss 1.0477552 lr 0.00091\n",
      "iteration 99500 training loss 0.9475864 lr 0.00090\n",
      "iteration 100000 training loss 0.9385858 lr 0.00090\n",
      "layout:nlp:random 0.9201310119368443\n",
      "layout:nlp:default 0.4958736775307485\n",
      "layout:xla:random 0.5601245102167806\n",
      "layout:xla:default 0.33721377005534636\n",
      "epoch 0, it 100000 validation loss -0.578\n",
      "stopping training\n"
     ]
    }
   ],
   "source": [
    "mlp.train(dataset, None)"
   ]
  },
  {
   "cell_type": "code",
   "execution_count": 5,
   "id": "4af8041f",
   "metadata": {},
   "outputs": [
    {
     "data": {
      "text/plain": [
       "{'layout:nlp:random': 0.9237359161399892,\n",
       " 'layout:nlp:default': 0.5022539194436331,\n",
       " 'layout:xla:random': 0.6208309627407183,\n",
       " 'layout:xla:default': 0.33721377005534636}"
      ]
     },
     "execution_count": 5,
     "metadata": {},
     "output_type": "execute_result"
    }
   ],
   "source": [
    "mlp.best_val_subsets"
   ]
  },
  {
   "cell_type": "code",
   "execution_count": 6,
   "id": "5cc61a44",
   "metadata": {},
   "outputs": [
    {
     "data": {
      "text/plain": [
       "0.5960086420949217"
      ]
     },
     "execution_count": 6,
     "metadata": {},
     "output_type": "execute_result"
    }
   ],
   "source": [
    "np.mean(list(mlp.best_val_subsets.values()))"
   ]
  },
  {
   "cell_type": "markdown",
   "id": "0b3418de",
   "metadata": {},
   "source": [
    "## Evaluate validation set"
   ]
  },
  {
   "cell_type": "code",
   "execution_count": 7,
   "id": "4ac0e42f",
   "metadata": {},
   "outputs": [],
   "source": [
    "val_df = mlp.predict_over_dataset(dataset.valid_data, return_labels=True)"
   ]
  },
  {
   "cell_type": "code",
   "execution_count": 8,
   "id": "db1d9033",
   "metadata": {},
   "outputs": [
    {
     "data": {
      "image/png": "[encoded data removed]",
      "text/plain": [
       "<Figure size 640x480 with 2 Axes>"
      ]
     },
     "metadata": {},
     "output_type": "display_data"
    }
   ],
   "source": [
    "plt.subplot(2, 1, 1)\n",
    "plt.hist(val_df['target'], bins=50)\n",
    "plt.subplot(2, 1, 2)\n",
    "plt.hist(val_df['prediction'], bins=50);"
   ]
  },
  {
   "cell_type": "code",
   "execution_count": 9,
   "id": "fded26b7",
   "metadata": {
    "scrolled": false
   },
   "outputs": [
    {
     "data": {
      "text/html": [
       "<div>\n",
       "<style scoped>\n",
       "    .dataframe tbody tr th:only-of-type {\n",
       "        vertical-align: middle;\n",
       "    }\n",
       "\n",
       "    .dataframe tbody tr th {\n",
       "        vertical-align: top;\n",
       "    }\n",
       "\n",
       "    .dataframe thead th {\n",
       "        text-align: right;\n",
       "    }\n",
       "</style>\n",
       "<table border=\"1\" class=\"dataframe\">\n",
       "  <thead>\n",
       "    <tr style=\"text-align: right;\">\n",
       "      <th></th>\n",
       "      <th>ID</th>\n",
       "      <th>config_index</th>\n",
       "      <th>prediction</th>\n",
       "      <th>target</th>\n",
       "    </tr>\n",
       "    <tr>\n",
       "      <th>ID</th>\n",
       "      <th></th>\n",
       "      <th></th>\n",
       "      <th></th>\n",
       "      <th></th>\n",
       "    </tr>\n",
       "  </thead>\n",
       "  <tbody>\n",
       "    <tr>\n",
       "      <th>b'layout:nlp:random:small_bert_bert_en_uncased_L-10_H-128_A-2_batch_size_64_train'</th>\n",
       "      <td>b'layout:nlp:random:small_bert_bert_en_uncased...</td>\n",
       "      <td>52</td>\n",
       "      <td>-19.381182</td>\n",
       "      <td>15.866922</td>\n",
       "    </tr>\n",
       "    <tr>\n",
       "      <th>b'layout:nlp:random:bert_multi_cased_L-12_H-768_A-12_batch_size_16_train'</th>\n",
       "      <td>b'layout:nlp:random:bert_multi_cased_L-12_H-76...</td>\n",
       "      <td>24</td>\n",
       "      <td>-18.604961</td>\n",
       "      <td>17.404556</td>\n",
       "    </tr>\n",
       "    <tr>\n",
       "      <th>b'layout:nlp:random:small_bert_bert_en_uncased_L-10_H-768_A-12_batch_size_16_train'</th>\n",
       "      <td>b'layout:nlp:random:small_bert_bert_en_uncased...</td>\n",
       "      <td>4</td>\n",
       "      <td>-18.392406</td>\n",
       "      <td>17.056398</td>\n",
       "    </tr>\n",
       "    <tr>\n",
       "      <th>b'layout:nlp:random:small_bert_bert_en_uncased_L-12_H-768_A-12_batch_size_64_train'</th>\n",
       "      <td>b'layout:nlp:random:small_bert_bert_en_uncased...</td>\n",
       "      <td>4</td>\n",
       "      <td>-17.566475</td>\n",
       "      <td>18.142067</td>\n",
       "    </tr>\n",
       "    <tr>\n",
       "      <th>b'layout:nlp:random:small_bert_bert_en_uncased_L-6_H-768_A-12_batch_size_32_train'</th>\n",
       "      <td>b'layout:nlp:random:small_bert_bert_en_uncased...</td>\n",
       "      <td>26</td>\n",
       "      <td>-17.356041</td>\n",
       "      <td>17.015827</td>\n",
       "    </tr>\n",
       "    <tr>\n",
       "      <th>b'layout:nlp:random:small_bert_bert_en_uncased_L-10_H-256_A-4_batch_size_64_train'</th>\n",
       "      <td>b'layout:nlp:random:small_bert_bert_en_uncased...</td>\n",
       "      <td>23</td>\n",
       "      <td>-16.689919</td>\n",
       "      <td>16.527550</td>\n",
       "    </tr>\n",
       "    <tr>\n",
       "      <th>b'layout:nlp:random:small_bert_bert_en_uncased_L-6_H-256_A-4_batch_size_16_train'</th>\n",
       "      <td>b'layout:nlp:random:small_bert_bert_en_uncased...</td>\n",
       "      <td>168</td>\n",
       "      <td>-16.611168</td>\n",
       "      <td>15.196446</td>\n",
       "    </tr>\n",
       "    <tr>\n",
       "      <th>b'layout:xla:random:tf2_bert_pretrain_dynamic_batch_size'</th>\n",
       "      <td>b'layout:xla:random:tf2_bert_pretrain_dynamic_...</td>\n",
       "      <td>5</td>\n",
       "      <td>-16.411919</td>\n",
       "      <td>17.944084</td>\n",
       "    </tr>\n",
       "    <tr>\n",
       "      <th>b'layout:nlp:random:small_bert_bert_en_uncased_L-4_H-512_A-8_batch_size_32_train'</th>\n",
       "      <td>b'layout:nlp:random:small_bert_bert_en_uncased...</td>\n",
       "      <td>152</td>\n",
       "      <td>-15.892786</td>\n",
       "      <td>16.103596</td>\n",
       "    </tr>\n",
       "    <tr>\n",
       "      <th>b'layout:nlp:random:small_bert_bert_en_uncased_L-6_H-256_A-4_batch_size_64_train'</th>\n",
       "      <td>b'layout:nlp:random:small_bert_bert_en_uncased...</td>\n",
       "      <td>91</td>\n",
       "      <td>-15.231062</td>\n",
       "      <td>16.081625</td>\n",
       "    </tr>\n",
       "    <tr>\n",
       "      <th>b'layout:xla:random:mlperf_bert_batch_24_2x2'</th>\n",
       "      <td>b'layout:xla:random:mlperf_bert_batch_24_2x2'</td>\n",
       "      <td>8</td>\n",
       "      <td>-15.041384</td>\n",
       "      <td>23.315741</td>\n",
       "    </tr>\n",
       "    <tr>\n",
       "      <th>b'layout:xla:random:resnet_v1_50_official_batch_128_bf16'</th>\n",
       "      <td>b'layout:xla:random:resnet_v1_50_official_batc...</td>\n",
       "      <td>7</td>\n",
       "      <td>-14.205639</td>\n",
       "      <td>20.910225</td>\n",
       "    </tr>\n",
       "    <tr>\n",
       "      <th>b'layout:xla:random:bert_pretraining.4x4.fp16'</th>\n",
       "      <td>b'layout:xla:random:bert_pretraining.4x4.fp16'</td>\n",
       "      <td>9</td>\n",
       "      <td>-13.870079</td>\n",
       "      <td>17.647696</td>\n",
       "    </tr>\n",
       "    <tr>\n",
       "      <th>b'layout:nlp:random:small_bert_bert_en_uncased_L-4_H-256_A-4_batch_size_32_train'</th>\n",
       "      <td>b'layout:nlp:random:small_bert_bert_en_uncased...</td>\n",
       "      <td>31</td>\n",
       "      <td>-13.185843</td>\n",
       "      <td>15.318127</td>\n",
       "    </tr>\n",
       "    <tr>\n",
       "      <th>b'layout:nlp:random:small_bert_bert_en_uncased_L-2_H-256_A-4_batch_size_32_train'</th>\n",
       "      <td>b'layout:nlp:random:small_bert_bert_en_uncased...</td>\n",
       "      <td>3</td>\n",
       "      <td>-11.947073</td>\n",
       "      <td>14.874757</td>\n",
       "    </tr>\n",
       "    <tr>\n",
       "      <th>b'layout:xla:random:resnet50.4x4.fp16'</th>\n",
       "      <td>b'layout:xla:random:resnet50.4x4.fp16'</td>\n",
       "      <td>10</td>\n",
       "      <td>-11.880038</td>\n",
       "      <td>19.288475</td>\n",
       "    </tr>\n",
       "    <tr>\n",
       "      <th>b'layout:xla:random:unet_3d.4x4.bf16'</th>\n",
       "      <td>b'layout:xla:random:unet_3d.4x4.bf16'</td>\n",
       "      <td>0</td>\n",
       "      <td>-11.175585</td>\n",
       "      <td>20.629919</td>\n",
       "    </tr>\n",
       "    <tr>\n",
       "      <th>b'layout:nlp:random:talking-heads_large_batch_size_16_train'</th>\n",
       "      <td>b'layout:nlp:random:talking-heads_large_batch_...</td>\n",
       "      <td>16</td>\n",
       "      <td>-11.020141</td>\n",
       "      <td>18.728615</td>\n",
       "    </tr>\n",
       "    <tr>\n",
       "      <th>b'layout:nlp:random:small_bert_bert_en_uncased_L-10_H-128_A-2_batch_size_32_test'</th>\n",
       "      <td>b'layout:nlp:random:small_bert_bert_en_uncased...</td>\n",
       "      <td>13</td>\n",
       "      <td>-10.936816</td>\n",
       "      <td>13.625198</td>\n",
       "    </tr>\n",
       "    <tr>\n",
       "      <th>b'layout:xla:random:inception_v3_batch_128_train'</th>\n",
       "      <td>b'layout:xla:random:inception_v3_batch_128_train'</td>\n",
       "      <td>2</td>\n",
       "      <td>-8.715830</td>\n",
       "      <td>21.680586</td>\n",
       "    </tr>\n",
       "    <tr>\n",
       "      <th>b'layout:xla:default:tf2_bert_pretrain_dynamic_batch_size'</th>\n",
       "      <td>b'layout:xla:default:tf2_bert_pretrain_dynamic...</td>\n",
       "      <td>16</td>\n",
       "      <td>-7.602460</td>\n",
       "      <td>17.943743</td>\n",
       "    </tr>\n",
       "    <tr>\n",
       "      <th>b'layout:nlp:random:small_bert_bert_en_uncased_L-10_H-768_A-12_batch_size_32_test'</th>\n",
       "      <td>b'layout:nlp:random:small_bert_bert_en_uncased...</td>\n",
       "      <td>63</td>\n",
       "      <td>-5.786084</td>\n",
       "      <td>15.972999</td>\n",
       "    </tr>\n",
       "    <tr>\n",
       "      <th>b'layout:nlp:random:small_bert_bert_en_uncased_L-10_H-256_A-4_batch_size_32_test'</th>\n",
       "      <td>b'layout:nlp:random:small_bert_bert_en_uncased...</td>\n",
       "      <td>289</td>\n",
       "      <td>-5.499066</td>\n",
       "      <td>14.373669</td>\n",
       "    </tr>\n",
       "    <tr>\n",
       "      <th>b'layout:xla:default:resnet50.4x4.fp16'</th>\n",
       "      <td>b'layout:xla:default:resnet50.4x4.fp16'</td>\n",
       "      <td>3</td>\n",
       "      <td>-5.470481</td>\n",
       "      <td>19.288380</td>\n",
       "    </tr>\n",
       "    <tr>\n",
       "      <th>b'layout:nlp:default:small_bert_bert_en_uncased_L-10_H-128_A-2_batch_size_64_train'</th>\n",
       "      <td>b'layout:nlp:default:small_bert_bert_en_uncase...</td>\n",
       "      <td>91</td>\n",
       "      <td>-5.040455</td>\n",
       "      <td>15.861995</td>\n",
       "    </tr>\n",
       "    <tr>\n",
       "      <th>b'layout:xla:default:bert_pretraining.4x4.fp16'</th>\n",
       "      <td>b'layout:xla:default:bert_pretraining.4x4.fp16'</td>\n",
       "      <td>33</td>\n",
       "      <td>-4.978107</td>\n",
       "      <td>17.647223</td>\n",
       "    </tr>\n",
       "    <tr>\n",
       "      <th>b'layout:xla:default:mlperf_bert_batch_24_2x2'</th>\n",
       "      <td>b'layout:xla:default:mlperf_bert_batch_24_2x2'</td>\n",
       "      <td>1</td>\n",
       "      <td>-4.871988</td>\n",
       "      <td>23.313335</td>\n",
       "    </tr>\n",
       "    <tr>\n",
       "      <th>b'layout:nlp:random:small_bert_bert_en_uncased_L-10_H-512_A-8_batch_size_64_test'</th>\n",
       "      <td>b'layout:nlp:random:small_bert_bert_en_uncased...</td>\n",
       "      <td>58</td>\n",
       "      <td>-4.739516</td>\n",
       "      <td>15.940228</td>\n",
       "    </tr>\n",
       "    <tr>\n",
       "      <th>b'layout:nlp:random:small_bert_bert_en_uncased_L-6_H-512_A-8_batch_size_64_test'</th>\n",
       "      <td>b'layout:nlp:random:small_bert_bert_en_uncased...</td>\n",
       "      <td>152</td>\n",
       "      <td>-4.690419</td>\n",
       "      <td>15.481175</td>\n",
       "    </tr>\n",
       "    <tr>\n",
       "      <th>b'layout:xla:default:resnet_v1_50_official_batch_128_bf16'</th>\n",
       "      <td>b'layout:xla:default:resnet_v1_50_official_bat...</td>\n",
       "      <td>17</td>\n",
       "      <td>-4.439904</td>\n",
       "      <td>20.910109</td>\n",
       "    </tr>\n",
       "    <tr>\n",
       "      <th>b'layout:nlp:default:small_bert_bert_en_uncased_L-10_H-128_A-2_batch_size_32_test'</th>\n",
       "      <td>b'layout:nlp:default:small_bert_bert_en_uncase...</td>\n",
       "      <td>337</td>\n",
       "      <td>-4.249719</td>\n",
       "      <td>13.623013</td>\n",
       "    </tr>\n",
       "    <tr>\n",
       "      <th>b'layout:nlp:random:albert_en_xlarge_batch_size_16_test'</th>\n",
       "      <td>b'layout:nlp:random:albert_en_xlarge_batch_siz...</td>\n",
       "      <td>3</td>\n",
       "      <td>-4.053501</td>\n",
       "      <td>17.862740</td>\n",
       "    </tr>\n",
       "    <tr>\n",
       "      <th>b'layout:nlp:random:bert_en_cased_L-12_H-768_A-12_batch_size_16_test'</th>\n",
       "      <td>b'layout:nlp:random:bert_en_cased_L-12_H-768_A...</td>\n",
       "      <td>100</td>\n",
       "      <td>-3.801445</td>\n",
       "      <td>15.546041</td>\n",
       "    </tr>\n",
       "    <tr>\n",
       "      <th>b'layout:nlp:random:small_bert_bert_en_uncased_L-6_H-768_A-12_batch_size_16_test'</th>\n",
       "      <td>b'layout:nlp:random:small_bert_bert_en_uncased...</td>\n",
       "      <td>323</td>\n",
       "      <td>-3.798136</td>\n",
       "      <td>14.893085</td>\n",
       "    </tr>\n",
       "    <tr>\n",
       "      <th>b'layout:nlp:default:talking-heads_large_batch_size_16_train'</th>\n",
       "      <td>b'layout:nlp:default:talking-heads_large_batch...</td>\n",
       "      <td>10</td>\n",
       "      <td>-3.240357</td>\n",
       "      <td>18.689297</td>\n",
       "    </tr>\n",
       "    <tr>\n",
       "      <th>b'layout:xla:default:unet_3d.4x4.bf16'</th>\n",
       "      <td>b'layout:xla:default:unet_3d.4x4.bf16'</td>\n",
       "      <td>2</td>\n",
       "      <td>-2.257581</td>\n",
       "      <td>20.629902</td>\n",
       "    </tr>\n",
       "    <tr>\n",
       "      <th>b'layout:nlp:default:bert_multi_cased_L-12_H-768_A-12_batch_size_16_train'</th>\n",
       "      <td>b'layout:nlp:default:bert_multi_cased_L-12_H-7...</td>\n",
       "      <td>4</td>\n",
       "      <td>-2.177101</td>\n",
       "      <td>17.403831</td>\n",
       "    </tr>\n",
       "    <tr>\n",
       "      <th>b'layout:nlp:default:small_bert_bert_en_uncased_L-12_H-768_A-12_batch_size_64_train'</th>\n",
       "      <td>b'layout:nlp:default:small_bert_bert_en_uncase...</td>\n",
       "      <td>17</td>\n",
       "      <td>-2.163135</td>\n",
       "      <td>18.141781</td>\n",
       "    </tr>\n",
       "    <tr>\n",
       "      <th>b'layout:nlp:default:small_bert_bert_en_uncased_L-10_H-768_A-12_batch_size_16_train'</th>\n",
       "      <td>b'layout:nlp:default:small_bert_bert_en_uncase...</td>\n",
       "      <td>5</td>\n",
       "      <td>-2.040967</td>\n",
       "      <td>17.053816</td>\n",
       "    </tr>\n",
       "    <tr>\n",
       "      <th>b'layout:nlp:default:small_bert_bert_en_uncased_L-10_H-256_A-4_batch_size_64_train'</th>\n",
       "      <td>b'layout:nlp:default:small_bert_bert_en_uncase...</td>\n",
       "      <td>57</td>\n",
       "      <td>-2.017810</td>\n",
       "      <td>16.523897</td>\n",
       "    </tr>\n",
       "    <tr>\n",
       "      <th>b'layout:nlp:default:small_bert_bert_en_uncased_L-6_H-256_A-4_batch_size_64_train'</th>\n",
       "      <td>b'layout:nlp:default:small_bert_bert_en_uncase...</td>\n",
       "      <td>77</td>\n",
       "      <td>-1.833333</td>\n",
       "      <td>16.077211</td>\n",
       "    </tr>\n",
       "    <tr>\n",
       "      <th>b'layout:nlp:default:small_bert_bert_en_uncased_L-10_H-256_A-4_batch_size_32_test'</th>\n",
       "      <td>b'layout:nlp:default:small_bert_bert_en_uncase...</td>\n",
       "      <td>228</td>\n",
       "      <td>-1.550272</td>\n",
       "      <td>14.371741</td>\n",
       "    </tr>\n",
       "    <tr>\n",
       "      <th>b'layout:nlp:default:small_bert_bert_en_uncased_L-6_H-256_A-4_batch_size_16_train'</th>\n",
       "      <td>b'layout:nlp:default:small_bert_bert_en_uncase...</td>\n",
       "      <td>191</td>\n",
       "      <td>-1.547876</td>\n",
       "      <td>15.192613</td>\n",
       "    </tr>\n",
       "    <tr>\n",
       "      <th>b'layout:nlp:default:small_bert_bert_en_uncased_L-6_H-768_A-12_batch_size_32_train'</th>\n",
       "      <td>b'layout:nlp:default:small_bert_bert_en_uncase...</td>\n",
       "      <td>14</td>\n",
       "      <td>-1.460208</td>\n",
       "      <td>17.014793</td>\n",
       "    </tr>\n",
       "    <tr>\n",
       "      <th>b'layout:nlp:default:small_bert_bert_en_uncased_L-4_H-256_A-4_batch_size_32_train'</th>\n",
       "      <td>b'layout:nlp:default:small_bert_bert_en_uncase...</td>\n",
       "      <td>195</td>\n",
       "      <td>-1.374093</td>\n",
       "      <td>15.298898</td>\n",
       "    </tr>\n",
       "    <tr>\n",
       "      <th>b'layout:nlp:default:small_bert_bert_en_uncased_L-4_H-512_A-8_batch_size_32_train'</th>\n",
       "      <td>b'layout:nlp:default:small_bert_bert_en_uncase...</td>\n",
       "      <td>7</td>\n",
       "      <td>-1.131888</td>\n",
       "      <td>16.100925</td>\n",
       "    </tr>\n",
       "    <tr>\n",
       "      <th>b'layout:nlp:default:albert_en_xlarge_batch_size_16_test'</th>\n",
       "      <td>b'layout:nlp:default:albert_en_xlarge_batch_si...</td>\n",
       "      <td>42</td>\n",
       "      <td>-1.055099</td>\n",
       "      <td>17.862587</td>\n",
       "    </tr>\n",
       "    <tr>\n",
       "      <th>b'layout:nlp:default:small_bert_bert_en_uncased_L-2_H-256_A-4_batch_size_32_train'</th>\n",
       "      <td>b'layout:nlp:default:small_bert_bert_en_uncase...</td>\n",
       "      <td>71</td>\n",
       "      <td>-0.859154</td>\n",
       "      <td>14.869376</td>\n",
       "    </tr>\n",
       "    <tr>\n",
       "      <th>b'layout:nlp:default:small_bert_bert_en_uncased_L-10_H-768_A-12_batch_size_32_test'</th>\n",
       "      <td>b'layout:nlp:default:small_bert_bert_en_uncase...</td>\n",
       "      <td>52</td>\n",
       "      <td>-0.220000</td>\n",
       "      <td>15.972425</td>\n",
       "    </tr>\n",
       "    <tr>\n",
       "      <th>b'layout:nlp:default:small_bert_bert_en_uncased_L-6_H-512_A-8_batch_size_64_test'</th>\n",
       "      <td>b'layout:nlp:default:small_bert_bert_en_uncase...</td>\n",
       "      <td>36</td>\n",
       "      <td>-0.124700</td>\n",
       "      <td>15.479750</td>\n",
       "    </tr>\n",
       "    <tr>\n",
       "      <th>b'layout:nlp:default:small_bert_bert_en_uncased_L-10_H-512_A-8_batch_size_64_test'</th>\n",
       "      <td>b'layout:nlp:default:small_bert_bert_en_uncase...</td>\n",
       "      <td>86</td>\n",
       "      <td>0.076712</td>\n",
       "      <td>15.939975</td>\n",
       "    </tr>\n",
       "    <tr>\n",
       "      <th>b'layout:nlp:default:small_bert_bert_en_uncased_L-6_H-768_A-12_batch_size_16_test'</th>\n",
       "      <td>b'layout:nlp:default:small_bert_bert_en_uncase...</td>\n",
       "      <td>188</td>\n",
       "      <td>0.195495</td>\n",
       "      <td>14.892119</td>\n",
       "    </tr>\n",
       "    <tr>\n",
       "      <th>b'layout:nlp:default:bert_en_cased_L-12_H-768_A-12_batch_size_16_test'</th>\n",
       "      <td>b'layout:nlp:default:bert_en_cased_L-12_H-768_...</td>\n",
       "      <td>106</td>\n",
       "      <td>0.457131</td>\n",
       "      <td>15.544782</td>\n",
       "    </tr>\n",
       "    <tr>\n",
       "      <th>b'layout:xla:default:inception_v3_batch_128_train'</th>\n",
       "      <td>b'layout:xla:default:inception_v3_batch_128_tr...</td>\n",
       "      <td>16</td>\n",
       "      <td>1.597548</td>\n",
       "      <td>21.680336</td>\n",
       "    </tr>\n",
       "  </tbody>\n",
       "</table>\n",
       "</div>"
      ],
      "text/plain": [
       "                                                                                                   ID  \\\n",
       "ID                                                                                                      \n",
       "b'layout:nlp:random:small_bert_bert_en_uncased_...  b'layout:nlp:random:small_bert_bert_en_uncased...   \n",
       "b'layout:nlp:random:bert_multi_cased_L-12_H-768...  b'layout:nlp:random:bert_multi_cased_L-12_H-76...   \n",
       "b'layout:nlp:random:small_bert_bert_en_uncased_...  b'layout:nlp:random:small_bert_bert_en_uncased...   \n",
       "b'layout:nlp:random:small_bert_bert_en_uncased_...  b'layout:nlp:random:small_bert_bert_en_uncased...   \n",
       "b'layout:nlp:random:small_bert_bert_en_uncased_...  b'layout:nlp:random:small_bert_bert_en_uncased...   \n",
       "b'layout:nlp:random:small_bert_bert_en_uncased_...  b'layout:nlp:random:small_bert_bert_en_uncased...   \n",
       "b'layout:nlp:random:small_bert_bert_en_uncased_...  b'layout:nlp:random:small_bert_bert_en_uncased...   \n",
       "b'layout:xla:random:tf2_bert_pretrain_dynamic_b...  b'layout:xla:random:tf2_bert_pretrain_dynamic_...   \n",
       "b'layout:nlp:random:small_bert_bert_en_uncased_...  b'layout:nlp:random:small_bert_bert_en_uncased...   \n",
       "b'layout:nlp:random:small_bert_bert_en_uncased_...  b'layout:nlp:random:small_bert_bert_en_uncased...   \n",
       "b'layout:xla:random:mlperf_bert_batch_24_2x2'           b'layout:xla:random:mlperf_bert_batch_24_2x2'   \n",
       "b'layout:xla:random:resnet_v1_50_official_batch...  b'layout:xla:random:resnet_v1_50_official_batc...   \n",
       "b'layout:xla:random:bert_pretraining.4x4.fp16'         b'layout:xla:random:bert_pretraining.4x4.fp16'   \n",
       "b'layout:nlp:random:small_bert_bert_en_uncased_...  b'layout:nlp:random:small_bert_bert_en_uncased...   \n",
       "b'layout:nlp:random:small_bert_bert_en_uncased_...  b'layout:nlp:random:small_bert_bert_en_uncased...   \n",
       "b'layout:xla:random:resnet50.4x4.fp16'                         b'layout:xla:random:resnet50.4x4.fp16'   \n",
       "b'layout:xla:random:unet_3d.4x4.bf16'                           b'layout:xla:random:unet_3d.4x4.bf16'   \n",
       "b'layout:nlp:random:talking-heads_large_batch_s...  b'layout:nlp:random:talking-heads_large_batch_...   \n",
       "b'layout:nlp:random:small_bert_bert_en_uncased_...  b'layout:nlp:random:small_bert_bert_en_uncased...   \n",
       "b'layout:xla:random:inception_v3_batch_128_train'   b'layout:xla:random:inception_v3_batch_128_train'   \n",
       "b'layout:xla:default:tf2_bert_pretrain_dynamic_...  b'layout:xla:default:tf2_bert_pretrain_dynamic...   \n",
       "b'layout:nlp:random:small_bert_bert_en_uncased_...  b'layout:nlp:random:small_bert_bert_en_uncased...   \n",
       "b'layout:nlp:random:small_bert_bert_en_uncased_...  b'layout:nlp:random:small_bert_bert_en_uncased...   \n",
       "b'layout:xla:default:resnet50.4x4.fp16'                       b'layout:xla:default:resnet50.4x4.fp16'   \n",
       "b'layout:nlp:default:small_bert_bert_en_uncased...  b'layout:nlp:default:small_bert_bert_en_uncase...   \n",
       "b'layout:xla:default:bert_pretraining.4x4.fp16'       b'layout:xla:default:bert_pretraining.4x4.fp16'   \n",
       "b'layout:xla:default:mlperf_bert_batch_24_2x2'         b'layout:xla:default:mlperf_bert_batch_24_2x2'   \n",
       "b'layout:nlp:random:small_bert_bert_en_uncased_...  b'layout:nlp:random:small_bert_bert_en_uncased...   \n",
       "b'layout:nlp:random:small_bert_bert_en_uncased_...  b'layout:nlp:random:small_bert_bert_en_uncased...   \n",
       "b'layout:xla:default:resnet_v1_50_official_batc...  b'layout:xla:default:resnet_v1_50_official_bat...   \n",
       "b'layout:nlp:default:small_bert_bert_en_uncased...  b'layout:nlp:default:small_bert_bert_en_uncase...   \n",
       "b'layout:nlp:random:albert_en_xlarge_batch_size...  b'layout:nlp:random:albert_en_xlarge_batch_siz...   \n",
       "b'layout:nlp:random:bert_en_cased_L-12_H-768_A-...  b'layout:nlp:random:bert_en_cased_L-12_H-768_A...   \n",
       "b'layout:nlp:random:small_bert_bert_en_uncased_...  b'layout:nlp:random:small_bert_bert_en_uncased...   \n",
       "b'layout:nlp:default:talking-heads_large_batch_...  b'layout:nlp:default:talking-heads_large_batch...   \n",
       "b'layout:xla:default:unet_3d.4x4.bf16'                         b'layout:xla:default:unet_3d.4x4.bf16'   \n",
       "b'layout:nlp:default:bert_multi_cased_L-12_H-76...  b'layout:nlp:default:bert_multi_cased_L-12_H-7...   \n",
       "b'layout:nlp:default:small_bert_bert_en_uncased...  b'layout:nlp:default:small_bert_bert_en_uncase...   \n",
       "b'layout:nlp:default:small_bert_bert_en_uncased...  b'layout:nlp:default:small_bert_bert_en_uncase...   \n",
       "b'layout:nlp:default:small_bert_bert_en_uncased...  b'layout:nlp:default:small_bert_bert_en_uncase...   \n",
       "b'layout:nlp:default:small_bert_bert_en_uncased...  b'layout:nlp:default:small_bert_bert_en_uncase...   \n",
       "b'layout:nlp:default:small_bert_bert_en_uncased...  b'layout:nlp:default:small_bert_bert_en_uncase...   \n",
       "b'layout:nlp:default:small_bert_bert_en_uncased...  b'layout:nlp:default:small_bert_bert_en_uncase...   \n",
       "b'layout:nlp:default:small_bert_bert_en_uncased...  b'layout:nlp:default:small_bert_bert_en_uncase...   \n",
       "b'layout:nlp:default:small_bert_bert_en_uncased...  b'layout:nlp:default:small_bert_bert_en_uncase...   \n",
       "b'layout:nlp:default:small_bert_bert_en_uncased...  b'layout:nlp:default:small_bert_bert_en_uncase...   \n",
       "b'layout:nlp:default:albert_en_xlarge_batch_siz...  b'layout:nlp:default:albert_en_xlarge_batch_si...   \n",
       "b'layout:nlp:default:small_bert_bert_en_uncased...  b'layout:nlp:default:small_bert_bert_en_uncase...   \n",
       "b'layout:nlp:default:small_bert_bert_en_uncased...  b'layout:nlp:default:small_bert_bert_en_uncase...   \n",
       "b'layout:nlp:default:small_bert_bert_en_uncased...  b'layout:nlp:default:small_bert_bert_en_uncase...   \n",
       "b'layout:nlp:default:small_bert_bert_en_uncased...  b'layout:nlp:default:small_bert_bert_en_uncase...   \n",
       "b'layout:nlp:default:small_bert_bert_en_uncased...  b'layout:nlp:default:small_bert_bert_en_uncase...   \n",
       "b'layout:nlp:default:bert_en_cased_L-12_H-768_A...  b'layout:nlp:default:bert_en_cased_L-12_H-768_...   \n",
       "b'layout:xla:default:inception_v3_batch_128_train'  b'layout:xla:default:inception_v3_batch_128_tr...   \n",
       "\n",
       "                                                    config_index  prediction  \\\n",
       "ID                                                                             \n",
       "b'layout:nlp:random:small_bert_bert_en_uncased_...            52  -19.381182   \n",
       "b'layout:nlp:random:bert_multi_cased_L-12_H-768...            24  -18.604961   \n",
       "b'layout:nlp:random:small_bert_bert_en_uncased_...             4  -18.392406   \n",
       "b'layout:nlp:random:small_bert_bert_en_uncased_...             4  -17.566475   \n",
       "b'layout:nlp:random:small_bert_bert_en_uncased_...            26  -17.356041   \n",
       "b'layout:nlp:random:small_bert_bert_en_uncased_...            23  -16.689919   \n",
       "b'layout:nlp:random:small_bert_bert_en_uncased_...           168  -16.611168   \n",
       "b'layout:xla:random:tf2_bert_pretrain_dynamic_b...             5  -16.411919   \n",
       "b'layout:nlp:random:small_bert_bert_en_uncased_...           152  -15.892786   \n",
       "b'layout:nlp:random:small_bert_bert_en_uncased_...            91  -15.231062   \n",
       "b'layout:xla:random:mlperf_bert_batch_24_2x2'                  8  -15.041384   \n",
       "b'layout:xla:random:resnet_v1_50_official_batch...             7  -14.205639   \n",
       "b'layout:xla:random:bert_pretraining.4x4.fp16'                 9  -13.870079   \n",
       "b'layout:nlp:random:small_bert_bert_en_uncased_...            31  -13.185843   \n",
       "b'layout:nlp:random:small_bert_bert_en_uncased_...             3  -11.947073   \n",
       "b'layout:xla:random:resnet50.4x4.fp16'                        10  -11.880038   \n",
       "b'layout:xla:random:unet_3d.4x4.bf16'                          0  -11.175585   \n",
       "b'layout:nlp:random:talking-heads_large_batch_s...            16  -11.020141   \n",
       "b'layout:nlp:random:small_bert_bert_en_uncased_...            13  -10.936816   \n",
       "b'layout:xla:random:inception_v3_batch_128_train'              2   -8.715830   \n",
       "b'layout:xla:default:tf2_bert_pretrain_dynamic_...            16   -7.602460   \n",
       "b'layout:nlp:random:small_bert_bert_en_uncased_...            63   -5.786084   \n",
       "b'layout:nlp:random:small_bert_bert_en_uncased_...           289   -5.499066   \n",
       "b'layout:xla:default:resnet50.4x4.fp16'                        3   -5.470481   \n",
       "b'layout:nlp:default:small_bert_bert_en_uncased...            91   -5.040455   \n",
       "b'layout:xla:default:bert_pretraining.4x4.fp16'               33   -4.978107   \n",
       "b'layout:xla:default:mlperf_bert_batch_24_2x2'                 1   -4.871988   \n",
       "b'layout:nlp:random:small_bert_bert_en_uncased_...            58   -4.739516   \n",
       "b'layout:nlp:random:small_bert_bert_en_uncased_...           152   -4.690419   \n",
       "b'layout:xla:default:resnet_v1_50_official_batc...            17   -4.439904   \n",
       "b'layout:nlp:default:small_bert_bert_en_uncased...           337   -4.249719   \n",
       "b'layout:nlp:random:albert_en_xlarge_batch_size...             3   -4.053501   \n",
       "b'layout:nlp:random:bert_en_cased_L-12_H-768_A-...           100   -3.801445   \n",
       "b'layout:nlp:random:small_bert_bert_en_uncased_...           323   -3.798136   \n",
       "b'layout:nlp:default:talking-heads_large_batch_...            10   -3.240357   \n",
       "b'layout:xla:default:unet_3d.4x4.bf16'                         2   -2.257581   \n",
       "b'layout:nlp:default:bert_multi_cased_L-12_H-76...             4   -2.177101   \n",
       "b'layout:nlp:default:small_bert_bert_en_uncased...            17   -2.163135   \n",
       "b'layout:nlp:default:small_bert_bert_en_uncased...             5   -2.040967   \n",
       "b'layout:nlp:default:small_bert_bert_en_uncased...            57   -2.017810   \n",
       "b'layout:nlp:default:small_bert_bert_en_uncased...            77   -1.833333   \n",
       "b'layout:nlp:default:small_bert_bert_en_uncased...           228   -1.550272   \n",
       "b'layout:nlp:default:small_bert_bert_en_uncased...           191   -1.547876   \n",
       "b'layout:nlp:default:small_bert_bert_en_uncased...            14   -1.460208   \n",
       "b'layout:nlp:default:small_bert_bert_en_uncased...           195   -1.374093   \n",
       "b'layout:nlp:default:small_bert_bert_en_uncased...             7   -1.131888   \n",
       "b'layout:nlp:default:albert_en_xlarge_batch_siz...            42   -1.055099   \n",
       "b'layout:nlp:default:small_bert_bert_en_uncased...            71   -0.859154   \n",
       "b'layout:nlp:default:small_bert_bert_en_uncased...            52   -0.220000   \n",
       "b'layout:nlp:default:small_bert_bert_en_uncased...            36   -0.124700   \n",
       "b'layout:nlp:default:small_bert_bert_en_uncased...            86    0.076712   \n",
       "b'layout:nlp:default:small_bert_bert_en_uncased...           188    0.195495   \n",
       "b'layout:nlp:default:bert_en_cased_L-12_H-768_A...           106    0.457131   \n",
       "b'layout:xla:default:inception_v3_batch_128_train'            16    1.597548   \n",
       "\n",
       "                                                       target  \n",
       "ID                                                             \n",
       "b'layout:nlp:random:small_bert_bert_en_uncased_...  15.866922  \n",
       "b'layout:nlp:random:bert_multi_cased_L-12_H-768...  17.404556  \n",
       "b'layout:nlp:random:small_bert_bert_en_uncased_...  17.056398  \n",
       "b'layout:nlp:random:small_bert_bert_en_uncased_...  18.142067  \n",
       "b'layout:nlp:random:small_bert_bert_en_uncased_...  17.015827  \n",
       "b'layout:nlp:random:small_bert_bert_en_uncased_...  16.527550  \n",
       "b'layout:nlp:random:small_bert_bert_en_uncased_...  15.196446  \n",
       "b'layout:xla:random:tf2_bert_pretrain_dynamic_b...  17.944084  \n",
       "b'layout:nlp:random:small_bert_bert_en_uncased_...  16.103596  \n",
       "b'layout:nlp:random:small_bert_bert_en_uncased_...  16.081625  \n",
       "b'layout:xla:random:mlperf_bert_batch_24_2x2'       23.315741  \n",
       "b'layout:xla:random:resnet_v1_50_official_batch...  20.910225  \n",
       "b'layout:xla:random:bert_pretraining.4x4.fp16'      17.647696  \n",
       "b'layout:nlp:random:small_bert_bert_en_uncased_...  15.318127  \n",
       "b'layout:nlp:random:small_bert_bert_en_uncased_...  14.874757  \n",
       "b'layout:xla:random:resnet50.4x4.fp16'              19.288475  \n",
       "b'layout:xla:random:unet_3d.4x4.bf16'               20.629919  \n",
       "b'layout:nlp:random:talking-heads_large_batch_s...  18.728615  \n",
       "b'layout:nlp:random:small_bert_bert_en_uncased_...  13.625198  \n",
       "b'layout:xla:random:inception_v3_batch_128_train'   21.680586  \n",
       "b'layout:xla:default:tf2_bert_pretrain_dynamic_...  17.943743  \n",
       "b'layout:nlp:random:small_bert_bert_en_uncased_...  15.972999  \n",
       "b'layout:nlp:random:small_bert_bert_en_uncased_...  14.373669  \n",
       "b'layout:xla:default:resnet50.4x4.fp16'             19.288380  \n",
       "b'layout:nlp:default:small_bert_bert_en_uncased...  15.861995  \n",
       "b'layout:xla:default:bert_pretraining.4x4.fp16'     17.647223  \n",
       "b'layout:xla:default:mlperf_bert_batch_24_2x2'      23.313335  \n",
       "b'layout:nlp:random:small_bert_bert_en_uncased_...  15.940228  \n",
       "b'layout:nlp:random:small_bert_bert_en_uncased_...  15.481175  \n",
       "b'layout:xla:default:resnet_v1_50_official_batc...  20.910109  \n",
       "b'layout:nlp:default:small_bert_bert_en_uncased...  13.623013  \n",
       "b'layout:nlp:random:albert_en_xlarge_batch_size...  17.862740  \n",
       "b'layout:nlp:random:bert_en_cased_L-12_H-768_A-...  15.546041  \n",
       "b'layout:nlp:random:small_bert_bert_en_uncased_...  14.893085  \n",
       "b'layout:nlp:default:talking-heads_large_batch_...  18.689297  \n",
       "b'layout:xla:default:unet_3d.4x4.bf16'              20.629902  \n",
       "b'layout:nlp:default:bert_multi_cased_L-12_H-76...  17.403831  \n",
       "b'layout:nlp:default:small_bert_bert_en_uncased...  18.141781  \n",
       "b'layout:nlp:default:small_bert_bert_en_uncased...  17.053816  \n",
       "b'layout:nlp:default:small_bert_bert_en_uncased...  16.523897  \n",
       "b'layout:nlp:default:small_bert_bert_en_uncased...  16.077211  \n",
       "b'layout:nlp:default:small_bert_bert_en_uncased...  14.371741  \n",
       "b'layout:nlp:default:small_bert_bert_en_uncased...  15.192613  \n",
       "b'layout:nlp:default:small_bert_bert_en_uncased...  17.014793  \n",
       "b'layout:nlp:default:small_bert_bert_en_uncased...  15.298898  \n",
       "b'layout:nlp:default:small_bert_bert_en_uncased...  16.100925  \n",
       "b'layout:nlp:default:albert_en_xlarge_batch_siz...  17.862587  \n",
       "b'layout:nlp:default:small_bert_bert_en_uncased...  14.869376  \n",
       "b'layout:nlp:default:small_bert_bert_en_uncased...  15.972425  \n",
       "b'layout:nlp:default:small_bert_bert_en_uncased...  15.479750  \n",
       "b'layout:nlp:default:small_bert_bert_en_uncased...  15.939975  \n",
       "b'layout:nlp:default:small_bert_bert_en_uncased...  14.892119  \n",
       "b'layout:nlp:default:bert_en_cased_L-12_H-768_A...  15.544782  \n",
       "b'layout:xla:default:inception_v3_batch_128_train'  21.680336  "
      ]
     },
     "execution_count": 9,
     "metadata": {},
     "output_type": "execute_result"
    }
   ],
   "source": [
    "val_df.groupby('ID').apply(lambda x: x.min()).sort_values('prediction')"
   ]
  },
  {
   "cell_type": "code",
   "execution_count": 10,
   "id": "72249379",
   "metadata": {},
   "outputs": [
    {
     "data": {
      "text/plain": [
       "Text(0.5, 1.0, \"b'layout:xla:default:resnet50.4x4.fp16'\")"
      ]
     },
     "execution_count": 10,
     "metadata": {},
     "output_type": "execute_result"
    },
    {
     "data": {
      "image/png": "[encoded data removed]",
      "text/plain": [
       "<Figure size 1200x400 with 2 Axes>"
      ]
     },
     "metadata": {},
     "output_type": "display_data"
    }
   ],
   "source": [
    "x_lin = np.linspace(15, 25, 100)\n",
    "#plt.plot(x_lin, x_lin, color='orange')\n",
    "\n",
    "random_sample = val_df.sample(1_000)\n",
    "graph_id = np.random.choice(val_df['ID'].unique())\n",
    "#graph_id = b'layout:xla:default:inception_v3_batch_128_train'\n",
    "#graph_id = b'layout:xla:default:unet_3d.4x4.bf16'\n",
    "random_sample = val_df[val_df['ID'] == graph_id].copy()\n",
    "\n",
    "plt.figure(figsize=(12, 4))\n",
    "plt.subplot(1, 2, 1)\n",
    "plt.scatter(\n",
    "    random_sample.target,\n",
    "    np.clip(random_sample.prediction, a_min=-500.0, a_max=1000.0),\n",
    "    alpha=0.1,\n",
    "    #c=random_sample['ID'].apply(lambda x: x.decode('UTF-8').split(':')[1] == 'xla').values.astype(float)\n",
    ")\n",
    "plt.xlabel('target')\n",
    "plt.ylabel('prediction')\n",
    "plt.title(graph_id)\n",
    "#plt.colorbar()\n",
    "\n",
    "random_sample.sort_values('target', inplace=True)\n",
    "plt.subplot(1, 2, 2)\n",
    "plt.scatter(\n",
    "    np.arange(len(random_sample)),\n",
    "    np.clip(random_sample.prediction, a_min=-500.0, a_max=1000.0),\n",
    "    alpha=0.1,\n",
    "    #c=random_sample['ID'].apply(lambda x: x.decode('UTF-8').split(':')[1] == 'xla').values.astype(float)\n",
    ")\n",
    "plt.xlabel('target')\n",
    "plt.ylabel('prediction')\n",
    "plt.title(graph_id)\n",
    "#plt.colorbar()"
   ]
  },
  {
   "cell_type": "code",
   "execution_count": 11,
   "id": "668a5228",
   "metadata": {},
   "outputs": [
    {
     "data": {
      "text/plain": [
       "(64, 32)"
      ]
     },
     "execution_count": 11,
     "metadata": {},
     "output_type": "execute_result"
    }
   ],
   "source": [
    "mlp.dense_layer_node_3.kernel.numpy().shape"
   ]
  },
  {
   "cell_type": "code",
   "execution_count": 12,
   "id": "9767149b",
   "metadata": {},
   "outputs": [
    {
     "data": {
      "image/png": "[encoded data removed]",
      "text/plain": [
       "<Figure size 640x480 with 1 Axes>"
      ]
     },
     "metadata": {},
     "output_type": "display_data"
    }
   ],
   "source": [
    "plt.hist(mlp.dense_layer_global_3.kernel.numpy().flatten(), bins=100);"
   ]
  },
  {
   "cell_type": "code",
   "execution_count": 13,
   "id": "ab85bff4",
   "metadata": {},
   "outputs": [
    {
     "data": {
      "image/png": "[encoded data removed]",
      "text/plain": [
       "<Figure size 640x480 with 1 Axes>"
      ]
     },
     "metadata": {},
     "output_type": "display_data"
    }
   ],
   "source": [
    "plt.hist(mlp.dense_layer_global_1.kernel.numpy()[:, 48:72].flatten(), bins=100);"
   ]
  },
  {
   "cell_type": "code",
   "execution_count": 14,
   "id": "1ddc0996",
   "metadata": {},
   "outputs": [
    {
     "data": {
      "text/plain": [
       "0.10927287581699346"
      ]
     },
     "execution_count": 14,
     "metadata": {},
     "output_type": "execute_result"
    }
   ],
   "source": [
    "(np.abs(mlp.dense_layer_global_1.kernel.numpy().flatten())>1.5).mean()"
   ]
  },
  {
   "cell_type": "code",
   "execution_count": 15,
   "id": "a4f3bcdd",
   "metadata": {},
   "outputs": [
    {
     "data": {
      "text/plain": [
       "<matplotlib.colorbar.Colorbar at 0x7fdac45fca50>"
      ]
     },
     "execution_count": 15,
     "metadata": {},
     "output_type": "execute_result"
    },
    {
     "data": {
      "image/png": "[encoded data removed]",
      "text/plain": [
       "<Figure size 640x480 with 2 Axes>"
      ]
     },
     "metadata": {},
     "output_type": "display_data"
    }
   ],
   "source": [
    "emb = mlp.embedding_layer_node_ops.weights[0].numpy()\n",
    "emb = emb / np.expand_dims(np.linalg.norm(emb, axis=1), axis=-1)\n",
    "dots = np.matmul(emb, emb.T)\n",
    "plt.imshow(dots)\n",
    "plt.colorbar()"
   ]
  },
  {
   "cell_type": "code",
   "execution_count": null,
   "id": "875ecd20",
   "metadata": {},
   "outputs": [],
   "source": [
    "ind = np.unravel_index(np.argsort(dots.flatten())[-122], dots.shape)\n",
    "ind"
   ]
  },
  {
   "cell_type": "code",
   "execution_count": null,
   "id": "d37fea97",
   "metadata": {},
   "outputs": [],
   "source": [
    "val_df[val_df['ID'] == b'layout:xla:default:unet_3d.4x4.bf16'].sort_values('target')"
   ]
  },
  {
   "cell_type": "code",
   "execution_count": null,
   "id": "8ae97dc8",
   "metadata": {},
   "outputs": [],
   "source": [
    "for val_batch in dataset.valid_data:\n",
    "    if b'layout:xla:default:mlperf_bert_batch_24_2x2' in val_batch['layout_id'].numpy():\n",
    "        print(val_batch['layout_id'])\n",
    "        break"
   ]
  },
  {
   "cell_type": "code",
   "execution_count": null,
   "id": "8bb4649a",
   "metadata": {},
   "outputs": [],
   "source": [
    "np.unique(val_batch['layout_id'].numpy())"
   ]
  },
  {
   "cell_type": "code",
   "execution_count": null,
   "id": "48c99ff5",
   "metadata": {},
   "outputs": [],
   "source": [
    "b'layout:xla:default:mlperf_bert_batch_24_2x2' in val_batch['layout_id'].numpy()"
   ]
  },
  {
   "cell_type": "code",
   "execution_count": null,
   "id": "b0639b83",
   "metadata": {},
   "outputs": [],
   "source": [
    "random_sample = val_df.sample(5_000)\n",
    "\n",
    "plt.figure(figsize=(12, 4))\n",
    "plt.subplot(1, 2, 1)\n",
    "plt.scatter(\n",
    "    random_sample['target'],\n",
    "    np.abs(random_sample['target'] - random_sample['prediction']),\n",
    "    alpha=0.07\n",
    ")\n",
    "plt.xlabel('target')\n",
    "plt.ylabel('abs error')\n",
    "x_lin = np.linspace(0, 0.7, 100)\n",
    "#plt.plot(x_lin, x_lin, color='orange')\n",
    "\n",
    "\n",
    "plt.subplot(1, 2, 2)\n",
    "plt.scatter(\n",
    "    random_sample['target'],\n",
    "    np.square(random_sample['target'] - random_sample['prediction']),\n",
    "    alpha=0.07\n",
    ")\n",
    "plt.xlabel('target')\n",
    "plt.ylabel('squared error')"
   ]
  },
  {
   "cell_type": "code",
   "execution_count": null,
   "id": "b9ddb6a5",
   "metadata": {},
   "outputs": [],
   "source": [
    "def sort_configs(df):\n",
    "    top = df.sort_values('prediction')\n",
    "    top = top['config_index'].values.tolist()\n",
    "    top = [str(i) for i in top]\n",
    "    return ';'.join(top)"
   ]
  },
  {
   "cell_type": "code",
   "execution_count": null,
   "id": "0c359b92",
   "metadata": {
    "scrolled": true
   },
   "outputs": [],
   "source": [
    "val_prediction = val_df.groupby('ID').apply(sort_configs)\n",
    "val_prediction.rename(index=lambda x: x.decode('UTF-8'), inplace=True)\n",
    "val_prediction"
   ]
  },
  {
   "cell_type": "code",
   "execution_count": null,
   "id": "cbb521f3",
   "metadata": {},
   "outputs": [],
   "source": [
    "val_df"
   ]
  },
  {
   "cell_type": "code",
   "execution_count": null,
   "id": "becd7c2f",
   "metadata": {},
   "outputs": [],
   "source": [
    "val_df['ID'].map(lambda x: ':'.join(x.decode('UTF-8').split(':')[:3])).unique()"
   ]
  },
  {
   "cell_type": "code",
   "execution_count": null,
   "id": "8c2b6e13",
   "metadata": {},
   "outputs": [],
   "source": [
    "def compute_layout_score_group(df):\n",
    "    score, _ = kendalltau(df['prediction'], df['target'])\n",
    "    return score\n",
    "\n",
    "val_df['subset'] = val_df['ID'].map(lambda x: ':'.join(x.decode('UTF-8').split(':')[:3]))\n",
    "all_means = []\n",
    "for subset in val_df['subset'].unique():\n",
    "    mean = np.mean(val_df[val_df['subset'] == subset].groupby('ID').apply(compute_layout_score_group))\n",
    "    all_means.append(mean)\n",
    "    print(subset, mean)\n",
    "print(np.mean(all_means))"
   ]
  },
  {
   "cell_type": "code",
   "execution_count": null,
   "id": "d95a3624",
   "metadata": {},
   "outputs": [],
   "source": [
    "np.mean([\n",
    "    0.9235,\n",
    "    0.6591,\n",
    "    0.516,\n",
    "    0.358,\n",
    "    0.968\n",
    "])"
   ]
  },
  {
   "cell_type": "code",
   "execution_count": null,
   "id": "ef3fffb4",
   "metadata": {
    "scrolled": false
   },
   "outputs": [],
   "source": [
    "val_scores = val_df.groupby('ID').apply(compute_layout_score_group)\n",
    "val_scores.sort_values()"
   ]
  },
  {
   "cell_type": "code",
   "execution_count": null,
   "id": "9a6ed6b4",
   "metadata": {
    "scrolled": true
   },
   "outputs": [],
   "source": [
    "valid_nodes_list = []\n",
    "for batch in dataset.valid_data:\n",
    "    df = pd.DataFrame(\n",
    "        np.stack([\n",
    "            batch['layout_id'].numpy(), \n",
    "            batch['valid_nodes'].numpy()], axis=-1),\n",
    "        columns=['ID', 'valid_nodes']\n",
    "    ).drop_duplicates('ID')\n",
    "    valid_nodes_list.append(df)\n",
    "valid_nodes = pd.concat(valid_nodes_list).drop_duplicates('ID')\n",
    "valid_nodes"
   ]
  },
  {
   "cell_type": "code",
   "execution_count": null,
   "id": "c29e14b9",
   "metadata": {},
   "outputs": [],
   "source": [
    "valid_nodes.set_index('ID', inplace=True)\n",
    "valid_nodes['scores'] = val_scores\n",
    "valid_nodes"
   ]
  },
  {
   "cell_type": "code",
   "execution_count": null,
   "id": "9810f776",
   "metadata": {
    "scrolled": true
   },
   "outputs": [],
   "source": [
    "valid_nodes.reset_index(inplace=True)\n",
    "valid_nodes"
   ]
  },
  {
   "cell_type": "code",
   "execution_count": null,
   "id": "09650c5b",
   "metadata": {
    "scrolled": false
   },
   "outputs": [],
   "source": [
    "valid_nodes['subset'] = valid_nodes['ID'].apply(lambda x: ':'.join(x.decode('UTF-8').split(':')[:3]))\n",
    "valid_nodes"
   ]
  },
  {
   "cell_type": "code",
   "execution_count": null,
   "id": "2d15f163",
   "metadata": {},
   "outputs": [],
   "source": [
    "plt.scatter(\n",
    "    valid_nodes['scores'],\n",
    "    valid_nodes['valid_nodes']\n",
    ")"
   ]
  },
  {
   "cell_type": "code",
   "execution_count": null,
   "id": "34d41b0f",
   "metadata": {},
   "outputs": [],
   "source": [
    "subset = 'layout:xla:random'\n",
    "valid_nodes_subset = valid_nodes[valid_nodes['subset'] == subset]\n",
    "print(valid_nodes_subset.sort_values('valid_nodes').iloc[-1])\n",
    "plt.scatter(\n",
    "    valid_nodes_subset['scores'],\n",
    "    valid_nodes_subset['valid_nodes']\n",
    ")"
   ]
  },
  {
   "cell_type": "code",
   "execution_count": null,
   "id": "2718574a",
   "metadata": {},
   "outputs": [],
   "source": [
    "def layout_score(candidate_order, layout_dict):\n",
    "    runtimes = layout_dict['config_runtime']\n",
    "    best_ranking = np.argsort(runtimes)\n",
    "    assert len(candidate_order) == len(runtimes)\n",
    "    score, _ = kendalltau(candidate_order, best_ranking)\n",
    "    return score"
   ]
  },
  {
   "cell_type": "code",
   "execution_count": null,
   "id": "de12cb9d",
   "metadata": {},
   "outputs": [],
   "source": [
    "dirpath, filename"
   ]
  },
  {
   "cell_type": "code",
   "execution_count": null,
   "id": "5d4289a9",
   "metadata": {},
   "outputs": [],
   "source": [
    "true_order = np.argsort(layout_dict['config_runtime'])\n",
    "plt.scatter(true_order, candidate_order)"
   ]
  },
  {
   "cell_type": "code",
   "execution_count": null,
   "id": "659d439d",
   "metadata": {
    "scrolled": false
   },
   "outputs": [],
   "source": [
    "layout_set = 'valid'\n",
    "true_orders = []\n",
    "layout_ids = []\n",
    "for dirpath, dirnames, filenames in os.walk('predict-ai-model-runtime/npz_all/npz/layout'):\n",
    "    if len(filenames) == 0:\n",
    "        continue\n",
    "    \n",
    "    if dirpath.split('/')[-1] != layout_set:\n",
    "        continue\n",
    "        \n",
    "    layout_id_prefix = ':'.join(dirpath.split('/')[-4:-1])\n",
    "    for filename in os.listdir(dirpath):\n",
    "        print(filename)\n",
    "        layout_id = layout_id_prefix+':'+filename[:-4]\n",
    "        layout_dict = dict(np.load(os.path.join(dirpath, filename)))\n",
    "        runtimes = layout_dict['config_runtime']\n",
    "        best_ranking = np.argsort(runtimes)\n",
    "        best_ranking = ';'.join([str(i) for i in best_ranking])\n",
    "        true_orders.append(best_ranking)\n",
    "        layout_ids.append(layout_id)\n",
    "        \n",
    "true_order_df = pd.DataFrame(\n",
    "    data=np.stack([layout_ids, true_orders], axis=-1),\n",
    "    columns=['ID', 'true_order']\n",
    ")\n",
    "true_order_df"
   ]
  },
  {
   "cell_type": "code",
   "execution_count": null,
   "id": "a6177a37",
   "metadata": {},
   "outputs": [],
   "source": [
    "# layout_id = true_order_df.sample()['ID'].values[0]\n",
    "layout_id = 'layout:xla:default:resnet50.4x4.fp16'\n",
    "true_order = [int(i) for i in true_order_df[true_order_df['ID'] == layout_id]['true_order'].values[0].split(';')]\n",
    "candidate_order = [int(i) for i in val_prediction[layout_id].split(';')]\n",
    "\n",
    "plt.scatter(true_order, candidate_order)\n",
    "plt.xlabel('true order')\n",
    "plt.ylabel('candidate order')\n",
    "plt.title(f'{layout_id}, len {len(true_order)}')"
   ]
  },
  {
   "cell_type": "code",
   "execution_count": null,
   "id": "11d506a5",
   "metadata": {},
   "outputs": [],
   "source": [
    "layout_dict = dict(np.load('predict-ai-model-runtime/npz_all/npz/layout/nlp/default/valid/small_bert_bert_en_uncased_L-6_H-256_A-4_batch_size_16_train.npz'))\n",
    "layout_dict['node_config_feat'].shape"
   ]
  },
  {
   "cell_type": "code",
   "execution_count": null,
   "id": "039f1d01",
   "metadata": {},
   "outputs": [],
   "source": [
    "val_df[val_df['ID'] == b'layout:nlp:default:small_bert_bert_en_uncased_L-6_H-256_A-4_batch_size_16_train']"
   ]
  },
  {
   "cell_type": "code",
   "execution_count": null,
   "id": "79c18339",
   "metadata": {},
   "outputs": [],
   "source": [
    "evaluation_result_layout['score'].astype(float).mean()"
   ]
  },
  {
   "cell_type": "markdown",
   "id": "d434f868",
   "metadata": {},
   "source": [
    "## Inference over test set"
   ]
  },
  {
   "cell_type": "code",
   "execution_count": null,
   "id": "ac93738e",
   "metadata": {},
   "outputs": [],
   "source": [
    "test_df = mlp.predict_over_dataset(dataset.test_data, return_labels=False)\n",
    "test_df"
   ]
  },
  {
   "cell_type": "code",
   "execution_count": null,
   "id": "39927c0d",
   "metadata": {},
   "outputs": [],
   "source": [
    "test_df.groupby('ID').count()"
   ]
  },
  {
   "cell_type": "code",
   "execution_count": null,
   "id": "b21ba9ea",
   "metadata": {},
   "outputs": [],
   "source": [
    "test_prediction = test_df.groupby('ID').apply(sort_configs)\n",
    "test_prediction.rename(index=lambda x: x.decode('UTF-8'), inplace=True)\n",
    "test_prediction"
   ]
  },
  {
   "cell_type": "code",
   "execution_count": null,
   "id": "cb906ef5",
   "metadata": {},
   "outputs": [],
   "source": [
    "test_prediction = pd.DataFrame(test_prediction, columns=['TopConfigs']).reset_index()\n",
    "test_prediction"
   ]
  },
  {
   "cell_type": "code",
   "execution_count": null,
   "id": "b405b523",
   "metadata": {},
   "outputs": [],
   "source": [
    "test_prediction['subset'] = test_prediction['ID'].apply(lambda x:':'.join(x.split(':')[:3]))"
   ]
  },
  {
   "cell_type": "code",
   "execution_count": null,
   "id": "11b7532c",
   "metadata": {},
   "outputs": [],
   "source": [
    "subset = 'layout:xla:default'\n",
    "test_prediction[test_prediction['subset'] == subset]"
   ]
  },
  {
   "cell_type": "code",
   "execution_count": null,
   "id": "0d09fef0",
   "metadata": {},
   "outputs": [],
   "source": [
    "pd.DataFrame(test_prediction, columns=['TopConfigs']).to_csv('predictions/layout_none_test_prediction_11_11_01_21.csv')"
   ]
  },
  {
   "cell_type": "code",
   "execution_count": null,
   "id": "7c9f73f7",
   "metadata": {},
   "outputs": [],
   "source": []
  }
 ],
 "metadata": {
  "kernelspec": {
   "display_name": "Python 3 (ipykernel)",
   "language": "python",
   "name": "python3"
  },
  "language_info": {
   "codemirror_mode": {
    "name": "ipython",
    "version": 3
   },
   "file_extension": ".py",
   "mimetype": "text/x-python",
   "name": "python",
   "nbconvert_exporter": "python",
   "pygments_lexer": "ipython3",
   "version": "3.11.4"
  }
 },
 "nbformat": 4,
 "nbformat_minor": 5
}
